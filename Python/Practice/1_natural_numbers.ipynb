{
 "cells": [
  {
   "attachments": {},
   "cell_type": "markdown",
   "metadata": {},
   "source": [
    "Write a program in C++ to find the first 10 natural numbers"
   ]
  },
  {
   "cell_type": "code",
   "execution_count": 1,
   "metadata": {},
   "outputs": [
    {
     "name": "stdout",
     "output_type": "stream",
     "text": [
      "1\n",
      "2\n",
      "3\n",
      "4\n",
      "5\n",
      "6\n",
      "7\n",
      "8\n",
      "9\n",
      "10\n"
     ]
    }
   ],
   "source": [
    "for i in range(1,11):\n",
    "    print(i)"
   ]
  },
  {
   "attachments": {},
   "cell_type": "markdown",
   "metadata": {},
   "source": [
    "Write a program in C++ to find the sum of the first 10 natural numbers."
   ]
  },
  {
   "cell_type": "code",
   "execution_count": 17,
   "metadata": {},
   "outputs": [
    {
     "name": "stdout",
     "output_type": "stream",
     "text": [
      "55\n"
     ]
    }
   ],
   "source": [
    "sum = 0\n",
    "for i in range(1,11):\n",
    "    sum = sum + i\n",
    "print(sum)"
   ]
  },
  {
   "attachments": {},
   "cell_type": "markdown",
   "metadata": {},
   "source": [
    "Write a program in C++ to display n terms of natural numbers and their sum"
   ]
  },
  {
   "cell_type": "code",
   "execution_count": 28,
   "metadata": {},
   "outputs": [
    {
     "name": "stdout",
     "output_type": "stream",
     "text": [
      "28\n"
     ]
    }
   ],
   "source": [
    "number = int(input(\"Input n terms\"))\n",
    "sum = 0\n",
    "for i in range(number+1):\n",
    "    sum = sum + i\n",
    "print(sum)"
   ]
  },
  {
   "attachments": {},
   "cell_type": "markdown",
   "metadata": {},
   "source": [
    "Write a program in C++ to find the perfect numbers between 1 and 500. \n",
    " "
   ]
  },
  {
   "attachments": {},
   "cell_type": "markdown",
   "metadata": {},
   "source": [
    "Write a program in C++ to check whether a number is prime or not.\n"
   ]
  },
  {
   "cell_type": "code",
   "execution_count": 102,
   "metadata": {},
   "outputs": [
    {
     "name": "stdout",
     "output_type": "stream",
     "text": [
      "13 is a prime number\n"
     ]
    }
   ],
   "source": [
    "num = int(input(\"Input a number\"))\n",
    "# If given number is greater than 1\n",
    "if num > 1:\n",
    "\t# Iterate from 2 to n / 2\n",
    "\tfor i in range(2, int(num/2)+1):\n",
    "\t\t# If num is divisible by any number between\n",
    "\t\t# 2 and n / 2, it is not prime\n",
    "\t\tif (num % i) == 0:\n",
    "\t\t\tprint(num, \"is not a prime number\")\n",
    "\t\t\tbreak\n",
    "\telse:\n",
    "\t\tprint(num, \"is a prime number\")\n",
    "else:\n",
    "\tprint(num, \"is not a prime number\")\n",
    "\n",
    "            "
   ]
  },
  {
   "attachments": {},
   "cell_type": "markdown",
   "metadata": {},
   "source": [
    "Write a program in C++ to find a prime number within a range"
   ]
  },
  {
   "cell_type": "code",
   "execution_count": 67,
   "metadata": {},
   "outputs": [
    {
     "name": "stdout",
     "output_type": "stream",
     "text": [
      "2\n",
      "3\n",
      "5\n",
      "7\n",
      "11\n",
      "13\n",
      "17\n",
      "19\n",
      "23\n",
      "29\n",
      "31\n",
      "37\n",
      "41\n",
      "43\n",
      "47\n",
      "53\n",
      "59\n",
      "61\n",
      "67\n",
      "71\n",
      "73\n",
      "79\n",
      "83\n",
      "89\n",
      "97\n"
     ]
    }
   ],
   "source": [
    "for i in range(2,100):\n",
    "    for j in range(2,i):\n",
    "        if i%j == 0:\n",
    "            break\n",
    "    else:\n",
    "        print(i)\n",
    "   \n"
   ]
  },
  {
   "attachments": {},
   "cell_type": "markdown",
   "metadata": {},
   "source": [
    "Write a program in C++ to find the factorial of a number."
   ]
  },
  {
   "cell_type": "code",
   "execution_count": 101,
   "metadata": {},
   "outputs": [
    {
     "name": "stdout",
     "output_type": "stream",
     "text": [
      "120\n"
     ]
    }
   ],
   "source": [
    "number = int(input(\"Input a number\"))\n",
    "factorial = 1\n",
    "for i in range(1,number+1):\n",
    "    factorial = factorial * i\n",
    "print(factorial)"
   ]
  },
  {
   "attachments": {},
   "cell_type": "markdown",
   "metadata": {},
   "source": [
    "Write a program in C++ to find the last prime number that occurs before the entered number."
   ]
  },
  {
   "cell_type": "code",
   "execution_count": 119,
   "metadata": {},
   "outputs": [
    {
     "name": "stdout",
     "output_type": "stream",
     "text": [
      "47\n"
     ]
    }
   ],
   "source": [
    "num = int(input(\"Input a number\"))\n",
    "for i in range(2,num):\n",
    "    for j in range(2,i):\n",
    "        if i%j == 0:\n",
    "            break\n",
    "    else:\n",
    "        l = []\n",
    "        l.append(i)\n",
    "print(l[-1])\n"
   ]
  },
  {
   "attachments": {},
   "cell_type": "markdown",
   "metadata": {},
   "source": [
    "Write a program in C++ to find the sum of the digits of a given number"
   ]
  },
  {
   "cell_type": "code",
   "execution_count": 1,
   "metadata": {},
   "outputs": [
    {
     "name": "stdout",
     "output_type": "stream",
     "text": [
      "1234\n"
     ]
    }
   ],
   "source": [
    "num = int(input(\"Enter a number\"))\n",
    "l = []\n",
    "l.append(num)\n",
    "for i in range(1,num):\n",
    "    sum = l[-1]\n",
    "print(sum)\n",
    "\n",
    "        \n"
   ]
  },
  {
   "cell_type": "markdown",
   "metadata": {},
   "source": [
    "Write a program in C++ to find the sum of the series 1 + 1/2^2 + 1/3^3 + ..+ 1/n^n"
   ]
  },
  {
   "cell_type": "code",
   "execution_count": 27,
   "metadata": {},
   "outputs": [
    {
     "name": "stdout",
     "output_type": "stream",
     "text": [
      "1.0\n",
      "0.25\n",
      "0.037037037037037035\n",
      "0.00390625\n",
      "0.00032\n",
      "Sum of the above series is: 1.291263287037037\n"
     ]
    }
   ],
   "source": [
    "sum = 0\n",
    "num = int(input(\"Input the value for nth term\"))\n",
    "for i in range(1,num+1):\n",
    "    a = 1/i**i\n",
    "    print(a) \n",
    "    sum = sum + a\n",
    "print(\"Sum of the above series is:\", sum)\n",
    "\n"
   ]
  },
  {
   "attachments": {},
   "cell_type": "markdown",
   "metadata": {},
   "source": [
    "Write a program in C++ to calculate the sum of the series (1*1) + (2*2) + (3*3) + (4*4) + (5*5) + ... + (n*n)"
   ]
  },
  {
   "cell_type": "code",
   "execution_count": 29,
   "metadata": {},
   "outputs": [
    {
     "name": "stdout",
     "output_type": "stream",
     "text": [
      "1\n",
      "4\n",
      "9\n",
      "16\n",
      "25\n",
      "Sum of the above series is: 55\n"
     ]
    }
   ],
   "source": [
    "sum = 0\n",
    "num = int(input(\"Input the value for nth term\"))\n",
    "for i in range(1,num+1):\n",
    "    a = i*i\n",
    "    print(a) \n",
    "    sum = sum + a\n",
    "print(\"Sum of the above series is:\", sum)"
   ]
  },
  {
   "attachments": {},
   "cell_type": "markdown",
   "metadata": {},
   "source": [
    "Write a program in C++ to calculate the series (1) + (1+2) + (1+2+3) + (1+2+3+4) + ... + (1+2+3+4+...+n)"
   ]
  },
  {
   "cell_type": "code",
   "execution_count": 92,
   "metadata": {},
   "outputs": [
    {
     "name": "stdout",
     "output_type": "stream",
     "text": [
      "1\n",
      "3\n",
      "6\n",
      "10\n",
      "15\n",
      "Sum of the above series is: 35\n"
     ]
    }
   ],
   "source": [
    "sum = 0\n",
    "n1 = 0\n",
    "num = int(input(\"Input the value for nth term\"))\n",
    "for i in range(1,num+1):\n",
    "    n2 = n1 + i\n",
    "    sum = sum + n2\n",
    "    n1 = n2\n",
    "    print(n2)\n",
    "    \n",
    "print(\"Sum of the above series is:\", sum)"
   ]
  },
  {
   "attachments": {},
   "cell_type": "markdown",
   "metadata": {},
   "source": [
    "Write a program in C++ to find the sum of series 1 - X^2/2! + X^4/4!-.... upto nth term"
   ]
  },
  {
   "cell_type": "code",
   "execution_count": 107,
   "metadata": {},
   "outputs": [
    {
     "name": "stdout",
     "output_type": "stream",
     "text": [
      "term 1 value is: 1\n",
      "term 2 value is: -4.5\n",
      "term 3 value is: 3.375\n",
      "term 4 value is: -1.0125\n",
      "Sum of the above series is: -1.1375\n"
     ]
    }
   ],
   "source": [
    "y =2\n",
    "x = int(input(\"Input the value of x\"))\n",
    "num = int(input(\"Input the value for nth term\"))\n",
    "sum = 1\n",
    "term = 1\n",
    "print(\"term 1 value is:\", term)\n",
    "for i in range(1,num):\n",
    "    factorial = 1\n",
    "    for j in range(1,y+1):\n",
    "        factorial = factorial * j\n",
    "    term = term * (-1)\n",
    "    m = x**y/factorial\n",
    "    m = m * term \n",
    "    print(\"term\", i+1, \"value is:\", m)\n",
    "    sum = sum + m\n",
    "    y = y+2\n",
    "print(\"Sum of the above series is:\", sum)"
   ]
  },
  {
   "attachments": {},
   "cell_type": "markdown",
   "metadata": {},
   "source": [
    "Write a C++ program that asks the user to enter positive integers in order to process count, maximum, minimum, and average or terminate the process with -1"
   ]
  },
  {
   "cell_type": "code",
   "execution_count": 123,
   "metadata": {},
   "outputs": [],
   "source": [
    "import math\n"
   ]
  },
  {
   "cell_type": "code",
   "execution_count": 130,
   "metadata": {},
   "outputs": [
    {
     "name": "stdout",
     "output_type": "stream",
     "text": [
      "2\n",
      "3\n",
      "4\n",
      "Number of Positive integers: 3\n",
      "Numbers: [2, 3, 4]\n",
      "The maximum value is: 4\n",
      "The minimum value is: 2\n"
     ]
    }
   ],
   "source": [
    "\n",
    "l = []\n",
    "while(True):\n",
    "    n = int(input(\"Enter positive integers, type -1 to terminate process\"))\n",
    "    if n == -1:\n",
    "        break\n",
    "    print(n)\n",
    "    l.append(n)\n",
    "\n",
    "avg  = int(sum(l)/len(l))\n",
    "print(\"Number of Positive integers:\", len(l))\n",
    "print(\"Numbers:\", l)\n",
    "print(\"The maximum value is:\", max(l))\n",
    "print(\"The minimum value is:\", min(l))\n",
    "# print(\"The maximun value is:\", int(avg))"
   ]
  },
  {
   "cell_type": "code",
   "execution_count": 147,
   "metadata": {},
   "outputs": [
    {
     "data": {
      "text/plain": [
       "2.5"
      ]
     },
     "execution_count": 147,
     "metadata": {},
     "output_type": "execute_result"
    }
   ],
   "source": [
    "sum1 = 0\n",
    "l = [1,2,3,4]\n",
    "for i in l:\n",
    "    sum1 = sum1 + i\n",
    "\n",
    "\n",
    "avg = sum1/len(l)\n",
    "avg\n",
    "# avg = int(a/b)\n",
    "# print(avg)"
   ]
  },
  {
   "attachments": {},
   "cell_type": "markdown",
   "metadata": {},
   "source": [
    " Write a C++ program to list non-prime numbers from 1 to an upperbound."
   ]
  },
  {
   "cell_type": "code",
   "execution_count": 29,
   "metadata": {},
   "outputs": [
    {
     "name": "stdout",
     "output_type": "stream",
     "text": [
      "4\n",
      "6\n",
      "8\n",
      "9\n",
      "10\n",
      "12\n",
      "14\n",
      "15\n",
      "16\n",
      "18\n",
      "20\n",
      "21\n",
      "22\n",
      "24\n",
      "25\n"
     ]
    }
   ],
   "source": [
    "num = int(input(\"Input the upperlimit:\" ))\n",
    "for i in range(2,num+1): \n",
    "    for j in range(2,101):\n",
    "        if i%j == 0:\n",
    "            break\n",
    "    if i != j:\n",
    "        print(i)"
   ]
  },
  {
   "cell_type": "markdown",
   "metadata": {},
   "source": [
    "Write a program in C++ to print a square pattern with the # character."
   ]
  },
  {
   "cell_type": "code",
   "execution_count": 48,
   "metadata": {},
   "outputs": [
    {
     "name": "stdout",
     "output_type": "stream",
     "text": [
      "# # # # \n",
      "# # # # \n",
      "# # # # \n",
      "# # # # \n"
     ]
    }
   ],
   "source": [
    "n = int(input(\"Enter the number of rows: \"))\n",
    "for row in range(0,n):\n",
    "    for j in range(0,n):\n",
    "        print('#', end=\" \")\n",
    "    print()"
   ]
  },
  {
   "attachments": {},
   "cell_type": "markdown",
   "metadata": {},
   "source": [
    "Write a program in C++ to display the cube of the number up to an integer."
   ]
  },
  {
   "cell_type": "code",
   "execution_count": 49,
   "metadata": {},
   "outputs": [
    {
     "name": "stdout",
     "output_type": "stream",
     "text": [
      "1\n",
      "8\n",
      "27\n",
      "64\n",
      "125\n"
     ]
    }
   ],
   "source": [
    "n = int(input(\"Input the n of terms: \"))\n",
    "for i in range(1,n+1):\n",
    "    c = i**3\n",
    "    print(c)"
   ]
  },
  {
   "attachments": {},
   "cell_type": "markdown",
   "metadata": {},
   "source": [
    "Write a program in C++ to display the multiplication table vertically from 1 to n."
   ]
  },
  {
   "cell_type": "code",
   "execution_count": null,
   "metadata": {},
   "outputs": [],
   "source": []
  },
  {
   "attachments": {},
   "cell_type": "markdown",
   "metadata": {},
   "source": [
    "Write a C++ program that displays the sum of n odd natural numbers."
   ]
  },
  {
   "cell_type": "code",
   "execution_count": 76,
   "metadata": {},
   "outputs": [
    {
     "name": "stdout",
     "output_type": "stream",
     "text": [
      "1\n",
      "3\n",
      "5\n",
      "7\n",
      "9\n",
      "Sum is: 25\n"
     ]
    }
   ],
   "source": [
    "n = int(input(\"Input number of terms: \"))\n",
    "s1 = 0\n",
    "for i in range(1,n*2, 2):\n",
    "    print(i)\n",
    "    s1 = s1 + i\n",
    "print(\"Sum is:\", s1)"
   ]
  },
  {
   "attachments": {},
   "cell_type": "markdown",
   "metadata": {},
   "source": [
    "Write a C++ program that displays the sum of the n terms of even natural numbers."
   ]
  },
  {
   "cell_type": "code",
   "execution_count": 81,
   "metadata": {},
   "outputs": [
    {
     "name": "stdout",
     "output_type": "stream",
     "text": [
      "2\n",
      "4\n",
      "6\n",
      "8\n",
      "10\n",
      "Sum is: 30\n"
     ]
    }
   ],
   "source": [
    "n = int(input(\"Input number of terms: \"))\n",
    "s1 = 0\n",
    "for i in range(2,2*n +1,2):\n",
    "    print(i)\n",
    "    s1 = s1 + i\n",
    "print(\"Sum is:\", s1)"
   ]
  },
  {
   "attachments": {},
   "cell_type": "markdown",
   "metadata": {},
   "source": [
    "Write a program in C++ to display the n terms of a harmonic series and their sum."
   ]
  },
  {
   "cell_type": "code",
   "execution_count": 87,
   "metadata": {},
   "outputs": [
    {
     "name": "stdout",
     "output_type": "stream",
     "text": [
      "1.0\n",
      "0.5\n",
      "0.3333333333333333\n",
      "0.25\n",
      "0.2\n",
      "Sum is: 2.283333333333333\n"
     ]
    }
   ],
   "source": [
    "n = int(input(\"Input number of terms: \"))\n",
    "s1 = 0\n",
    "for i in range(1,n+1):\n",
    "    h = 1/i\n",
    "    print(h)\n",
    "    s1 = s1 + h\n",
    "print(\"Sum is:\", s1)"
   ]
  },
  {
   "attachments": {},
   "cell_type": "markdown",
   "metadata": {},
   "source": [
    "Write a program in C++ to display the sum of the series [ 9 + 99 + 999 + 9999 ...]."
   ]
  },
  {
   "cell_type": "code",
   "execution_count": 117,
   "metadata": {},
   "outputs": [
    {
     "name": "stdout",
     "output_type": "stream",
     "text": [
      "9\n",
      "99\n",
      "999\n",
      "9999\n",
      "99999\n",
      "sum is: 111105\n"
     ]
    }
   ],
   "source": [
    "n = int(input(\"Input number of terms: \"))\n",
    "x = 9\n",
    "s1 = 0\n",
    "for i in range(0,n):\n",
    "    print(x)\n",
    "    s1 = s1 + x\n",
    "    x = (x*10) + 9\n",
    "print(\"sum is:\", s1)\n"
   ]
  },
  {
   "cell_type": "markdown",
   "metadata": {},
   "source": [
    "Write a program in C++ to display the sum of the series [ 1+x+x^2/2!+x^3/3!+....]"
   ]
  },
  {
   "cell_type": "code",
   "execution_count": 5,
   "metadata": {},
   "outputs": [
    {
     "name": "stdout",
     "output_type": "stream",
     "text": [
      "The sum of the series is: 16.375\n"
     ]
    }
   ],
   "source": [
    "import math\n",
    "\n",
    "def sum_series(x, n):\n",
    "    sum = 0.0\n",
    "    for i in range(n):\n",
    "        sum += math.pow(x, i) / math.factorial(i)\n",
    "    return sum\n",
    "\n",
    "x = float(input(\"Enter the value of x: \"))\n",
    "n = int(input(\"Enter the number of terms to be summed: \"))\n",
    "\n",
    "sum = sum_series(x, n)\n",
    "\n",
    "print(\"The sum of the series is:\", sum)\n"
   ]
  },
  {
   "attachments": {},
   "cell_type": "markdown",
   "metadata": {},
   "source": [
    "Write a program in C++ to find the sum of the series [ x - x^3 + x^5 + ......]."
   ]
  },
  {
   "cell_type": "code",
   "execution_count": 65,
   "metadata": {},
   "outputs": [
    {
     "name": "stdout",
     "output_type": "stream",
     "text": [
      "2.0\n",
      "-8.0\n",
      "32.0\n",
      "-128.0\n",
      "512.0\n",
      "The sum of the series is: 410.0\n"
     ]
    }
   ],
   "source": [
    "import math\n",
    "\n",
    "s1 = 0\n",
    "\n",
    "\n",
    "sum = 0.0\n",
    "for i in range(1, n*2, 2):\n",
    "    sum = math.pow(x, i)\n",
    "    x = x*-1\n",
    "    s1 = s1 + sum\n",
    "    print(sum)\n",
    "    \n",
    "    \n",
    "    \n",
    "x = float(input(\"Enter the value of x: \"))\n",
    "n = int(input(\"Enter the number of terms to be summed: \"))\n",
    "\n",
    "\n",
    "print(\"The sum of the series is:\", s1)"
   ]
  },
  {
   "attachments": {},
   "cell_type": "markdown",
   "metadata": {},
   "source": [
    "Write a program in C++ to find the sum of the series 1 +11 + 111 + 1111 + .. n terms."
   ]
  },
  {
   "cell_type": "code",
   "execution_count": 67,
   "metadata": {},
   "outputs": [
    {
     "name": "stdout",
     "output_type": "stream",
     "text": [
      "1\n",
      "11\n",
      "111\n",
      "1111\n",
      "11111\n",
      "sum is: 12345\n"
     ]
    }
   ],
   "source": [
    "n = int(input(\"Input number of terms: \"))\n",
    "x = 1\n",
    "s1 = 0\n",
    "for i in range(0,n):\n",
    "    print(x)\n",
    "    s1 = s1 + x\n",
    "    x = (x*10) + 1\n",
    "print(\"sum is:\", s1)"
   ]
  },
  {
   "attachments": {},
   "cell_type": "markdown",
   "metadata": {},
   "source": [
    "Write a program in C++ to display the first n terms of the Fibonacci series."
   ]
  },
  {
   "cell_type": "code",
   "execution_count": 74,
   "metadata": {},
   "outputs": [
    {
     "name": "stdout",
     "output_type": "stream",
     "text": [
      "0\n",
      "1\n",
      "1\n",
      "2\n",
      "3\n",
      "5\n",
      "8\n",
      "13\n",
      "21\n",
      "34\n"
     ]
    }
   ],
   "source": [
    "f1 = 0\n",
    "f2 = 1\n",
    "n = int(input(\"Input number of terms: \"))\n",
    "for i in range(n):\n",
    "    print(f1)\n",
    "    temp = f1 + f2\n",
    "    f1 = f2\n",
    "    f2 = temp\n"
   ]
  },
  {
   "attachments": {},
   "cell_type": "markdown",
   "metadata": {},
   "source": [
    "Write a program in C++ to find the number and sum of all integers between 100 and 200 which are divisible by 9"
   ]
  },
  {
   "cell_type": "code",
   "execution_count": 2,
   "metadata": {},
   "outputs": [
    {
     "name": "stdout",
     "output_type": "stream",
     "text": [
      "108\n",
      "117\n",
      "126\n",
      "135\n",
      "144\n",
      "153\n",
      "162\n",
      "171\n",
      "180\n",
      "189\n",
      "198\n",
      "The Sum: 1683\n"
     ]
    }
   ],
   "source": [
    "s1 = 0\n",
    "for i in range(108,201, 9):\n",
    "    print(i)\n",
    "    s1 += i\n",
    "print(\"The Sum:\", s1)"
   ]
  },
  {
   "attachments": {},
   "cell_type": "markdown",
   "metadata": {},
   "source": [
    "Write a program in C++ to find the LCM of any two numbers using HCF"
   ]
  },
  {
   "cell_type": "code",
   "execution_count": null,
   "metadata": {},
   "outputs": [],
   "source": []
  },
  {
   "attachments": {},
   "cell_type": "markdown",
   "metadata": {},
   "source": [
    "Write a program in C++ to display the numbers in reverse order"
   ]
  },
  {
   "cell_type": "code",
   "execution_count": 5,
   "metadata": {},
   "outputs": [
    {
     "name": "stdout",
     "output_type": "stream",
     "text": [
      "54321\n"
     ]
    }
   ],
   "source": [
    "# n = int(input(\"Enter the number of terms: \"))\n",
    "# s1 = 1\n",
    "\n",
    "# for i in range(1):\n",
    "#         r = n % 10;\n",
    "#         s1 = s1 * 10 + r\n",
    "# print(s1)\n",
    "n = int(input(\"Enter a number: \"))\n",
    "\n",
    "\n",
    "n_str = str(n)\n",
    "n_len = len(n_str)\n",
    "\n",
    "for i in range(n_len - 1, -1, -1):\n",
    "    print(n_str[i], end='')\n",
    "\n",
    "print()\n",
    "\n"
   ]
  },
  {
   "attachments": {},
   "cell_type": "markdown",
   "metadata": {},
   "source": [
    "Write a program in C++ to check whether a number can be expressed as the sum of two"
   ]
  },
  {
   "cell_type": "code",
   "execution_count": 8,
   "metadata": {},
   "outputs": [
    {
     "name": "stdout",
     "output_type": "stream",
     "text": [
      "False\n"
     ]
    }
   ],
   "source": [
    "n1 = int(input(\"Enter a number: \"))\n",
    "n2 = int(input(\"Enter a number: \"))\n",
    "n3 = int(input(\"Enter a number: \"))\n",
    "\n",
    "if n1 == n2 + n3:\n",
    "    print(\"True\")\n",
    "else:\n",
    "    print(\"False\")\n"
   ]
  },
  {
   "attachments": {},
   "cell_type": "markdown",
   "metadata": {},
   "source": [
    "Write a program in C++ to find the length of a string without using the library function"
   ]
  },
  {
   "cell_type": "code",
   "execution_count": 34,
   "metadata": {},
   "outputs": [
    {
     "name": "stdout",
     "output_type": "stream",
     "text": [
      "6\n"
     ]
    }
   ],
   "source": [
    "print(len(str(input(\"Enter a string: \"))))"
   ]
  },
  {
   "attachments": {},
   "cell_type": "markdown",
   "metadata": {},
   "source": [
    "Write a program in C++ to display a pattern like a right angle triangle using an asterisk."
   ]
  },
  {
   "cell_type": "code",
   "execution_count": 15,
   "metadata": {},
   "outputs": [
    {
     "name": "stdout",
     "output_type": "stream",
     "text": [
      "* \n",
      "* * \n",
      "* * * \n",
      "* * * * \n",
      "* * * * * \n"
     ]
    }
   ],
   "source": [
    "n = int(input(\"Enter the number of rows: \"))\n",
    "for row in range(1, n+1):\n",
    "    for j in range(1, row+1):\n",
    "        print('*', end=\" \")\n",
    "    print()\n"
   ]
  },
  {
   "attachments": {},
   "cell_type": "markdown",
   "metadata": {},
   "source": [
    "Write a program in C++ to display the pattern like right angle triangle with number."
   ]
  },
  {
   "cell_type": "code",
   "execution_count": 18,
   "metadata": {},
   "outputs": [
    {
     "name": "stdout",
     "output_type": "stream",
     "text": [
      "1 \n",
      "1 2 \n",
      "1 2 3 \n",
      "1 2 3 4 \n",
      "1 2 3 4 5 \n"
     ]
    }
   ],
   "source": [
    "n = int(input(\"Enter the number of rows: \"))\n",
    "for row in range(1, n+1):\n",
    "    for j in range(1, row+1):\n",
    "        print(j, end=\" \")\n",
    "    print()"
   ]
  },
  {
   "attachments": {},
   "cell_type": "markdown",
   "metadata": {},
   "source": [
    "Write a C++ program that makes a pattern such as a right angle triangle using numbers that repeat. "
   ]
  },
  {
   "cell_type": "code",
   "execution_count": 1,
   "metadata": {},
   "outputs": [
    {
     "name": "stdout",
     "output_type": "stream",
     "text": [
      "1\n",
      "22\n",
      "333\n",
      "4444\n",
      "55555\n"
     ]
    }
   ],
   "source": [
    "n = int(input(\"Enter the number of rows: \"))\n",
    "for row in range(1, n+1):\n",
    "    for j in range(1, row+1):\n",
    "        print(row, end=\"\")\n",
    "    print()"
   ]
  },
  {
   "attachments": {},
   "cell_type": "markdown",
   "metadata": {},
   "source": [
    "Write a program in C++ to find the first and last digits of a number. "
   ]
  },
  {
   "cell_type": "code",
   "execution_count": null,
   "metadata": {},
   "outputs": [],
   "source": []
  }
 ],
 "metadata": {
  "kernelspec": {
   "display_name": "Python 3",
   "language": "python",
   "name": "python3"
  },
  "language_info": {
   "codemirror_mode": {
    "name": "ipython",
    "version": 3
   },
   "file_extension": ".py",
   "mimetype": "text/x-python",
   "name": "python",
   "nbconvert_exporter": "python",
   "pygments_lexer": "ipython3",
   "version": "3.11.3"
  },
  "orig_nbformat": 4
 },
 "nbformat": 4,
 "nbformat_minor": 2
}
