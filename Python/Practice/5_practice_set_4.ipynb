{
 "cells": [
  {
   "attachments": {},
   "cell_type": "markdown",
   "metadata": {},
   "source": [
    "Q1. Create a class called \"Person\" with properties for \"name\", \"age\", and \"gender\". Create an object of this\n",
    "class and print out its properties."
   ]
  },
  {
   "cell_type": "code",
   "execution_count": 6,
   "metadata": {},
   "outputs": [
    {
     "name": "stdout",
     "output_type": "stream",
     "text": [
      "Adi 30 Male\n"
     ]
    }
   ],
   "source": [
    "class Person:\n",
    "    def __init__(self, name, age, gender):\n",
    "        self.name = name\n",
    "        self.age = age\n",
    "        self.gender = gender\n",
    "\n",
    "    def person_details(self):\n",
    "        print(self.name, self.age, self.gender)\n",
    "p_obj = Person(\"Adi\", \"30\", \"Male\")\n",
    "p_obj.person_details()\n"
   ]
  },
  {
   "attachments": {},
   "cell_type": "markdown",
   "metadata": {},
   "source": [
    "Q2. Write a Python class called \"Rectangle\" with attributes for \"width\" and \"height\". Implement methods\n",
    "to calculate the area and perimeter of the rectangle. Create an instance of this class and use it to print out\n",
    "the rectangle's area and perimeter."
   ]
  },
  {
   "cell_type": "code",
   "execution_count": 15,
   "metadata": {},
   "outputs": [
    {
     "name": "stdout",
     "output_type": "stream",
     "text": [
      "Area =  12\n",
      "Perimeter =  14\n"
     ]
    }
   ],
   "source": [
    "class Rectangle:\n",
    "    def __init__(self, width, height):\n",
    "        self.width = width\n",
    "        self.height = height\n",
    "        \n",
    "    def rectangle_details(self):\n",
    "        print(\"Area = \", self.width*self.height)\n",
    "        print(\"Perimeter = \",  (self.width + self.height)*2)\n",
    "r_obj = Rectangle(3, 4)\n",
    "r_obj.rectangle_details()\n"
   ]
  },
  {
   "attachments": {},
   "cell_type": "markdown",
   "metadata": {},
   "source": [
    "Q3. Write a Python class called \"BankAccount\" with attributes for \"balance\" and \"interest_rate\".\n",
    "Implement methods to deposit and withdraw money from the account, as well as to calculate the interest\n",
    "earned on the balance based on the interest rate. Create an instance of this class and use it to test out the\n",
    "implemented methods for deposit, withdrawal, and interest calculation."
   ]
  },
  {
   "cell_type": "code",
   "execution_count": 16,
   "metadata": {},
   "outputs": [
    {
     "name": "stdout",
     "output_type": "stream",
     "text": [
      "Current Balance =  100\n",
      "Deposit =  50\n",
      "Total Balance =  150\n",
      "Current Balance =  150\n",
      "Withdrawal =  10\n",
      "Total Balance =  140\n"
     ]
    }
   ],
   "source": [
    "\n",
    "\n",
    "class BankAccount:\n",
    "    def __init__(self, balance, deposit, withdrawal):\n",
    "        self.balance = balance\n",
    "        self.deposit = deposit\n",
    "        self.withdrawal = withdrawal\n",
    "\n",
    "    def bankaccount_deposit(self):\n",
    "\n",
    "        print(\"Current Balance = \", self.balance)\n",
    "        print(\"Deposit = \", self.deposit)\n",
    "        self.balance+=self.deposit\n",
    "        print(\"Total Balance = \", self.balance)\n",
    "       \n",
    "    \n",
    "    def bankaccount_withdrawal(self):\n",
    "    \n",
    "        print(\"Current Balance = \", self.balance)\n",
    "        print(\"Withdrawal = \", self.withdrawal)\n",
    "        print(\"Total Balance = \", self.balance - self.withdrawal)\n",
    "b_obj = BankAccount(int(input(\"Balance = \")), int(input(\"Deposit = \")), int(input(\"Withdraw = \")))\n",
    "b_obj.bankaccount_deposit()\n",
    "b_obj.bankaccount_withdrawal()"
   ]
  },
  {
   "attachments": {},
   "cell_type": "markdown",
   "metadata": {},
   "source": [
    "Q4. Write a Python class called \"Animal\" with attributes for \"name\" and \"species\". Create a subclass of\n",
    "\"Animal\" called \"Dog\" with additional attributes for \"breed\" and \"owner\". Implement both classes with\n",
    "appropriate methods and constructors to initialise their properties. Create instances of both classes and\n",
    "use them to print out the various properties of the animals and dogs, such as their names, species,\n",
    "breeds, and owners."
   ]
  },
  {
   "cell_type": "code",
   "execution_count": 1,
   "metadata": {},
   "outputs": [
    {
     "name": "stdout",
     "output_type": "stream",
     "text": [
      "Animal name:  Lion\n",
      "Animal species:  Cat\n",
      "Dog name:  Max\n",
      "Dog species:  Canine\n",
      "Dog breed:  Golden Retriever\n",
      "Dog owner:  John\n"
     ]
    }
   ],
   "source": [
    "# class Animal:\n",
    "#     def __init__(self, name, species):\n",
    "#         self.name = name\n",
    "#         self.species = species\n",
    "    \n",
    "#     class Dog:\n",
    "#         def __init__(self, breed, owner):\n",
    "#         self.breed = breed\n",
    "#         self.owner = owner\n",
    "\n",
    "class Animal:\n",
    "    def __init__(self, name, species):\n",
    "        self.name = name\n",
    "        self.species = species\n",
    "        \n",
    "    def get_name(self):\n",
    "        return self.name\n",
    "    \n",
    "    def get_species(self):\n",
    "        return self.species\n",
    "    \n",
    "class Dog(Animal):\n",
    "    def __init__(self, name, species, breed, owner):\n",
    "        super().__init__(name, species)\n",
    "        self.breed = breed\n",
    "        self.owner = owner\n",
    "        \n",
    "    def get_breed(self):\n",
    "        return self.breed\n",
    "    \n",
    "    def get_owner(self):\n",
    "        return self.owner\n",
    "    \n",
    "# Creating an instance of Animal\n",
    "animal1 = Animal(\"Lion\", \"Cat\")\n",
    "\n",
    "# Creating an instance of Dog\n",
    "dog1 = Dog(\"Max\", \"Canine\", \"Golden Retriever\", \"John\")\n",
    "\n",
    "# Accessing properties of the Animal instance\n",
    "print(\"Animal name: \", animal1.get_name())\n",
    "print(\"Animal species: \", animal1.get_species())\n",
    "\n",
    "# Accessing properties of the Dog instance\n",
    "print(\"Dog name: \", dog1.get_name())\n",
    "print(\"Dog species: \", dog1.get_species())\n",
    "print(\"Dog breed: \", dog1.get_breed())\n",
    "print(\"Dog owner: \", dog1.get_owner())\n"
   ]
  },
  {
   "attachments": {},
   "cell_type": "markdown",
   "metadata": {},
   "source": [
    "Q5. Create a class called \"Car\" with properties for \"make\", \"model\", and \"year\". Create a subclass of \"Car\"\n",
    "called \"ElectricCar\" with additional properties for \"battery_size\" and \"range\". Create objects of both\n",
    "classes and print out their properties."
   ]
  },
  {
   "cell_type": "code",
   "execution_count": 3,
   "metadata": {},
   "outputs": [
    {
     "name": "stdout",
     "output_type": "stream",
     "text": [
      "Car make:  Honda\n",
      "Car model:  Civic\n",
      "Car year:  2021\n",
      "Electric car make:  Tesla\n",
      "Electric car model:  Model S\n",
      "Electric car year:  2022\n",
      "Electric car battery size:  75\n",
      "Electric car range:  300\n"
     ]
    }
   ],
   "source": [
    "class Car:\n",
    "    def __init__(self, make, model, year):\n",
    "        self.make = make\n",
    "        self.model = model\n",
    "        self.year = year\n",
    "    \n",
    "    def get_make(self):\n",
    "        return self.make\n",
    "    def get_model(self):\n",
    "        return self.model\n",
    "    def get_year(self):\n",
    "        return self.year\n",
    "    \n",
    "class ElectricCar(Car):\n",
    "    def __init__(self, make, model, year, battery_size, range):\n",
    "        super().__init__(make, model, year)\n",
    "        self.battery_size = battery_size\n",
    "        self.range = range\n",
    "\n",
    "    def get_battery_size(self):\n",
    "        return self.battery_size\n",
    "    def get_range(self):\n",
    "        return self.range\n",
    "        \n",
    "car1 = Car(\"Honda\", \"Civic\", 2021)\n",
    "electric_car1 = ElectricCar(\"Tesla\", \"Model S\", 2022, 75, 300)\n",
    "\n",
    "print(\"Car make: \", car1.get_make())\n",
    "print(\"Car model: \", car1.get_model())\n",
    "print(\"Car year: \", car1.get_year())\n",
    "\n",
    "# Accessing properties of the ElectricCar instance\n",
    "print(\"Electric car make: \", electric_car1.get_make())\n",
    "print(\"Electric car model: \", electric_car1.get_model())\n",
    "print(\"Electric car year: \", electric_car1.get_year())\n",
    "print(\"Electric car battery size: \", electric_car1.get_battery_size())\n",
    "print(\"Electric car range: \", electric_car1.get_range())"
   ]
  },
  {
   "attachments": {},
   "cell_type": "markdown",
   "metadata": {},
   "source": [
    "Q6. Create a class called \"Student\" with properties for \"name\" and \"id\". Create a subclass of \"Student\"\n",
    "called \"GraduateStudent\" with additional properties for \"advisor\" and \"research_area\". Create objects of\n",
    "both classes and print out their properties."
   ]
  },
  {
   "cell_type": "code",
   "execution_count": 4,
   "metadata": {},
   "outputs": [
    {
     "name": "stdout",
     "output_type": "stream",
     "text": [
      "Student name:  Alice\n",
      "Student ID:  123456\n",
      "Graduate student name:  Bob\n",
      "Graduate student ID:  789012\n",
      "Graduate student advisor:  Dr. Smith\n",
      "Graduate student research area:  Computer Science\n"
     ]
    }
   ],
   "source": [
    "class Student:\n",
    "    def __init__(self, name, id):\n",
    "        self.name = name\n",
    "        self.id = id\n",
    "    \n",
    "    def get_name(self):\n",
    "        return self.name\n",
    "    def get_id(self):\n",
    "        return self.id\n",
    "\n",
    "class GraduateStudent(Student):\n",
    "    def __init__(self, name, id, advisor, research_area):\n",
    "        super().__init__(name, id)\n",
    "        self.advisor = advisor\n",
    "        self.research_area = research_area\n",
    "\n",
    "    def get_advisor(self):\n",
    "        return self.advisor\n",
    "    def get_research_area(self):\n",
    "        return self.research_area \n",
    "    \n",
    "# Creating an instance of Student\n",
    "student1 = Student(\"Alice\", 123456)\n",
    "\n",
    "# Creating an instance of GraduateStudent\n",
    "grad_student1 = GraduateStudent(\"Bob\", 789012, \"Dr. Smith\", \"Computer Science\")\n",
    "\n",
    "# Accessing properties of the Student instance\n",
    "print(\"Student name: \", student1.get_name())\n",
    "print(\"Student ID: \", student1.get_id())\n",
    "\n",
    "# Accessing properties of the GraduateStudent instance\n",
    "print(\"Graduate student name: \", grad_student1.get_name())\n",
    "print(\"Graduate student ID: \", grad_student1.get_id())\n",
    "print(\"Graduate student advisor: \", grad_student1.get_advisor())\n",
    "print(\"Graduate student research area: \", grad_student1.get_research_area())\n",
    "    \n"
   ]
  },
  {
   "attachments": {},
   "cell_type": "markdown",
   "metadata": {},
   "source": [
    "Q7. Create a class called \"Shape\" with methods to calculate the area and perimeter of the shape. Create\n",
    "subclasses of \"Shape\" for \"Rectangle\", \"Circle\", and \"Triangle\" with their own methods for calculating area\n",
    "and perimeter. Create objects of each class and print out their area and perimeter."
   ]
  },
  {
   "cell_type": "code",
   "execution_count": 6,
   "metadata": {},
   "outputs": [
    {
     "name": "stdout",
     "output_type": "stream",
     "text": [
      "Rectangle Area:  50\n",
      "Rectangle Perimeter:  30\n",
      "Circle Area:  153.93804002589985\n",
      "Circle Circumference:  43.982297150257104\n",
      "Triangle Area:  48.0\n",
      "Triangle Perimeter:  23\n"
     ]
    }
   ],
   "source": [
    "# class Shape:\n",
    "#     def __init__(self, area, perimeter):\n",
    "#         self.area = area\n",
    "#         self.perimeter = perimeter\n",
    "\n",
    "#     def get_area(self):\n",
    "#         return self.area\n",
    "#     def get_perimeter(self):\n",
    "#         return self.perimeter\n",
    "    \n",
    "# class Rectangle(Shape):\n",
    "#     def __init__(self, area, perimeter, length, width):\n",
    "#         super().__init__(area, perimeter)\n",
    "#         self.length = length\n",
    "#         self.width = width\n",
    "    \n",
    "#     def get_length(self):\n",
    "#         return self.length\n",
    "#     def get_widht(self):\n",
    "#         return self.width\n",
    "    \n",
    "# class Circle(Shape):\n",
    "#     def __init__(self, area, perimeter, radius):\n",
    "#         super().__init__(area, perimeter)\n",
    "#         self.radius = radius\n",
    "    \n",
    "#     def get_radius(self):\n",
    "#         return self.radius\n",
    "import math\n",
    "\n",
    "class Shape:\n",
    "    def area(self):\n",
    "        pass\n",
    "    \n",
    "    def perimeter(self):\n",
    "        pass\n",
    "    \n",
    "class Rectangle(Shape):\n",
    "    def __init__(self, length, width):\n",
    "        self.length = length\n",
    "        self.width = width\n",
    "        \n",
    "    def area(self):\n",
    "        return self.length * self.width\n",
    "    \n",
    "    def perimeter(self):\n",
    "        return 2 * (self.length + self.width)\n",
    "    \n",
    "class Circle(Shape):\n",
    "    def __init__(self, radius):\n",
    "        self.radius = radius\n",
    "        \n",
    "    def area(self):\n",
    "        return math.pi * self.radius ** 2\n",
    "    \n",
    "    def perimeter(self):\n",
    "        return 2 * math.pi * self.radius\n",
    "    \n",
    "class Triangle(Shape):\n",
    "    def __init__(self, base, height, side1, side2, side3):\n",
    "        self.base = base\n",
    "        self.height = height\n",
    "        self.side1 = side1\n",
    "        self.side2 = side2\n",
    "        self.side3 = side3\n",
    "        \n",
    "    def area(self):\n",
    "        return 0.5 * self.base * self.height\n",
    "    \n",
    "    def perimeter(self):\n",
    "        return self.side1 + self.side2 + self.side3\n",
    "    \n",
    "# Creating an instance of Rectangle\n",
    "rect = Rectangle(5, 10)\n",
    "\n",
    "# Creating an instance of Circle\n",
    "circ = Circle(7)\n",
    "\n",
    "# Creating an instance of Triangle\n",
    "tri = Triangle(8, 12, 6, 7, 10)\n",
    "\n",
    "# Printing the area and perimeter of the Rectangle instance\n",
    "print(\"Rectangle Area: \", rect.area())\n",
    "print(\"Rectangle Perimeter: \", rect.perimeter())\n",
    "\n",
    "# Printing the area and perimeter of the Circle instance\n",
    "print(\"Circle Area: \", circ.area())\n",
    "print(\"Circle Circumference: \", circ.perimeter())\n",
    "\n",
    "# Printing the area and perimeter of the Triangle instance\n",
    "print(\"Triangle Area: \", tri.area())\n",
    "print(\"Triangle Perimeter: \", tri.perimeter())\n",
    "\n",
    "\n",
    "\n"
   ]
  },
  {
   "attachments": {},
   "cell_type": "markdown",
   "metadata": {},
   "source": [
    "Q8. Create a class called \"Employee\" with properties for \"name\", \"id\", and \"salary\". Add methods to give\n",
    "the employee a raise and to calculate their annual salary. Create objects of this class and test out the\n",
    "methods."
   ]
  },
  {
   "cell_type": "code",
   "execution_count": 8,
   "metadata": {},
   "outputs": [
    {
     "name": "stdout",
     "output_type": "stream",
     "text": [
      "Employee name: John Smith\n",
      "Employee ID: 12345\n",
      "Employee salary: 50000\n",
      "Employee annual salary: 600000\n",
      "Employee new salary: 60000\n",
      "Employee new annual salary: 720000\n"
     ]
    }
   ],
   "source": [
    "# class Employee:\n",
    "#     def __init__(self, name, id, salary):\n",
    "#         self.name = name\n",
    "#         self.id = id \n",
    "#         self.salary = salary\n",
    "\n",
    "#     def get_name(self):\n",
    "#         return self.name\n",
    "#     def get_id(self):\n",
    "#         return self.id\n",
    "#     def get_salary(self):\n",
    "#         return self.salary\n",
    "\n",
    "# emp1 = Employee(\"Max\", 98, 500000)\n",
    "# print(\"Name of employee: \", emp1.get_name())\n",
    "# print(\"ID: \", emp1.get_id())\n",
    "# print(\"Salary: \", emp1.get_salary())\n",
    "\n",
    "class Employee:\n",
    "    def __init__(self, name, id, salary):\n",
    "        self.name = name\n",
    "        self.id = id\n",
    "        self.salary = salary\n",
    "        \n",
    "    def give_raise(self, amount):\n",
    "        self.salary += amount\n",
    "        \n",
    "    def calculate_annual_salary(self):\n",
    "        return self.salary * 12\n",
    "    \n",
    "# Creating an instance of Employee\n",
    "employee1 = Employee(\"John Smith\", \"12345\", 50000)\n",
    "\n",
    "# Printing employee details and initial annual salary\n",
    "print(\"Employee name:\", employee1.name)\n",
    "print(\"Employee ID:\", employee1.id)\n",
    "print(\"Employee salary:\", employee1.salary)\n",
    "print(\"Employee annual salary:\", employee1.calculate_annual_salary())\n",
    "\n",
    "# Giving the employee a raise and printing the updated salary\n",
    "employee1.give_raise(10000)\n",
    "print(\"Employee new salary:\", employee1.salary)\n",
    "\n",
    "# Printing the updated annual salary\n",
    "print(\"Employee new annual salary:\", employee1.calculate_annual_salary())\n"
   ]
  },
  {
   "attachments": {},
   "cell_type": "markdown",
   "metadata": {},
   "source": [
    "Q9. Create a class called \"Book\" with properties for \"title\", \"author\", and \"publisher\". Create a subclass of\n",
    "\"Book\" called \"Ebook\" with additional properties for \"file_format\" and \"file_size\". Create objects of both\n",
    "classes and print out their properties."
   ]
  },
  {
   "cell_type": "code",
   "execution_count": 10,
   "metadata": {},
   "outputs": [
    {
     "name": "stdout",
     "output_type": "stream",
     "text": [
      "Title of Book:  The Great Gatsby\n",
      "Author of Book:  F. Scott Fitzgerald\n",
      "Publisher of Book:  Scribner\n",
      "Title of EBook:  The Da Vinci Code\n",
      "Author of EBook:  Dan Brown\n",
      "Publisher of EBook:  Doubleday\n",
      "File Format of EBook:  PDF\n",
      "File Size of EBook:  5.5 MB\n"
     ]
    }
   ],
   "source": [
    "class Book:\n",
    "    def __init__(self, title, author, publisher):\n",
    "        self.title = title\n",
    "        self.author = author\n",
    "        self.publisher = publisher\n",
    "    def get_title(self):\n",
    "        return self.title\n",
    "    def get_author(self):\n",
    "        return self.author\n",
    "    def get_publisher(self):\n",
    "        return self.publisher\n",
    "    \n",
    "class Ebook(Book):\n",
    "    def __init__(self, title, author, publisher, file_format, file_size):\n",
    "        super().__init__(title, author, publisher)\n",
    "        self.file_format = file_format\n",
    "        self.file_size = file_size\n",
    "    def get_file_format(self):\n",
    "        return self.file_format\n",
    "    def get_file_size(self):\n",
    "        return self.file_size\n",
    "    \n",
    "# Creating an instance of Book\n",
    "book1 = Book(\"The Great Gatsby\", \"F. Scott Fitzgerald\", \"Scribner\")\n",
    "\n",
    "# Creating an instance of Ebook\n",
    "ebook1 = Ebook(\"The Da Vinci Code\", \"Dan Brown\", \"Doubleday\", \"PDF\", 5.5)\n",
    "\n",
    "print(\"Title of Book: \", book1.get_title())\n",
    "print(\"Author of Book: \", book1.get_author())\n",
    "print(\"Publisher of Book: \", book1.get_publisher())\n",
    "\n",
    "print(\"Title of EBook: \", ebook1.get_title())\n",
    "print(\"Author of EBook: \", ebook1.get_author())\n",
    "print(\"Publisher of EBook: \", ebook1.get_publisher())\n",
    "print(\"File Format of EBook: \", ebook1.get_file_format())\n",
    "print(\"File Size of EBook: \", ebook1.get_file_size(), \"MB\")\n",
    "    "
   ]
  },
  {
   "attachments": {},
   "cell_type": "markdown",
   "metadata": {},
   "source": [
    "Q10. Create a class called \"Bank\" with properties for \"name\" and \"accounts\". Add methods to create new\n",
    "accounts, deposit and withdraw money from accounts, and to calculate the total balance of all accounts.\n",
    "Create an object of this class and test out the methods."
   ]
  },
  {
   "cell_type": "code",
   "execution_count": 11,
   "metadata": {},
   "outputs": [
    {
     "name": "stdout",
     "output_type": "stream",
     "text": [
      "Created account 123 with initial balance 100.\n",
      "Created account 456 with initial balance 500.\n",
      "Deposited 50 into account 123.\n",
      "Withdrew 100 from account 456.\n",
      "Error: Insufficient funds in account 123.\n",
      "Total balance: 550\n"
     ]
    }
   ],
   "source": [
    "# class Bank:\n",
    "#     def __init__(self, name, accounts):\n",
    "#         self.name = name\n",
    "#         self.accounts = accounts\n",
    "class Bank:\n",
    "    def __init__(self, name):\n",
    "        self.name = name\n",
    "        self.accounts = {}\n",
    "    \n",
    "    def create_account(self, account_number, initial_balance=0):\n",
    "        if account_number in self.accounts:\n",
    "            print(f\"Error: Account {account_number} already exists.\")\n",
    "        else:\n",
    "            self.accounts[account_number] = initial_balance\n",
    "            print(f\"Created account {account_number} with initial balance {initial_balance}.\")\n",
    "    \n",
    "    def deposit(self, account_number, amount):\n",
    "        if account_number not in self.accounts:\n",
    "            print(f\"Error: Account {account_number} does not exist.\")\n",
    "        else:\n",
    "            self.accounts[account_number] += amount\n",
    "            print(f\"Deposited {amount} into account {account_number}.\")\n",
    "    \n",
    "    def withdraw(self, account_number, amount):\n",
    "        if account_number not in self.accounts:\n",
    "            print(f\"Error: Account {account_number} does not exist.\")\n",
    "        elif amount > self.accounts[account_number]:\n",
    "            print(f\"Error: Insufficient funds in account {account_number}.\")\n",
    "        else:\n",
    "            self.accounts[account_number] -= amount\n",
    "            print(f\"Withdrew {amount} from account {account_number}.\")\n",
    "    \n",
    "    def total_balance(self):\n",
    "        return sum(self.accounts.values())\n",
    "bank = Bank(\"My Bank\")\n",
    "\n",
    "bank.create_account(123, 100)\n",
    "bank.create_account(456, 500)\n",
    "\n",
    "bank.deposit(123, 50)\n",
    "bank.withdraw(456, 100)\n",
    "bank.withdraw(123, 200)\n",
    "\n",
    "print(f\"Total balance: {bank.total_balance()}\")\n"
   ]
  },
  {
   "cell_type": "code",
   "execution_count": null,
   "metadata": {},
   "outputs": [],
   "source": []
  }
 ],
 "metadata": {
  "kernelspec": {
   "display_name": "Python 3",
   "language": "python",
   "name": "python3"
  },
  "language_info": {
   "codemirror_mode": {
    "name": "ipython",
    "version": 3
   },
   "file_extension": ".py",
   "mimetype": "text/x-python",
   "name": "python",
   "nbconvert_exporter": "python",
   "pygments_lexer": "ipython3",
   "version": "3.11.3"
  },
  "orig_nbformat": 4
 },
 "nbformat": 4,
 "nbformat_minor": 2
}
